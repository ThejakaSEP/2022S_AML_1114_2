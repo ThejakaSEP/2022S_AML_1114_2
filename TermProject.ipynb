{
 "cells": [
  {
   "cell_type": "code",
   "execution_count": 73,
   "id": "3b752b56",
   "metadata": {},
   "outputs": [],
   "source": [
    "import pandas as pd\n",
    "import matplotlib.pyplot as plt\n",
    "import seaborn as sns\n",
    "import numpy as np\n",
    "from scipy.stats import norm\n",
    "from sklearn.preprocessing import StandardScaler\n",
    "from scipy import stats\n",
    "import warnings\n",
    "from sklearn.preprocessing import LabelEncoder  \n",
    "warnings.filterwarnings('ignore')\n",
    "%matplotlib inline"
   ]
  },
  {
   "cell_type": "code",
   "execution_count": 76,
   "id": "7a898c35",
   "metadata": {},
   "outputs": [],
   "source": [
    "df = pd.read_csv('adult.csv')"
   ]
  },
  {
   "cell_type": "code",
   "execution_count": 77,
   "id": "47732130",
   "metadata": {},
   "outputs": [
    {
     "data": {
      "text/plain": [
       "Index(['Age', 'Workclass', 'Fnlwgt', 'Education', 'Education-num',\n",
       "       'Marital-status', 'Occupation', 'Relationship', 'Race', 'Sex',\n",
       "       'Capital-gain', 'Capital-loss', 'hours-per-week', 'Native-country',\n",
       "       'Salary'],\n",
       "      dtype='object')"
      ]
     },
     "execution_count": 77,
     "metadata": {},
     "output_type": "execute_result"
    }
   ],
   "source": [
    "df.columns"
   ]
  },
  {
   "cell_type": "code",
   "execution_count": 78,
   "id": "48e42145",
   "metadata": {},
   "outputs": [],
   "source": [
    "df.columns = df.columns.str.strip()"
   ]
  },
  {
   "cell_type": "markdown",
   "id": "11bc8ccb",
   "metadata": {},
   "source": [
    "### Understanding the Dependent Variable"
   ]
  },
  {
   "cell_type": "code",
   "execution_count": 83,
   "id": "fccde461",
   "metadata": {},
   "outputs": [
    {
     "data": {
      "text/plain": [
       "count      32561\n",
       "unique         2\n",
       "top        <=50K\n",
       "freq       24720\n",
       "Name: Salary, dtype: object"
      ]
     },
     "execution_count": 83,
     "metadata": {},
     "output_type": "execute_result"
    }
   ],
   "source": [
    "df['Salary'].describe()"
   ]
  },
  {
   "cell_type": "code",
   "execution_count": 84,
   "id": "0ba588a5",
   "metadata": {},
   "outputs": [
    {
     "data": {
      "text/plain": [
       "0      <=50K\n",
       "1      <=50K\n",
       "2      <=50K\n",
       "3      <=50K\n",
       "4      <=50K\n",
       "5      <=50K\n",
       "6      <=50K\n",
       "7       >50K\n",
       "8       >50K\n",
       "9       >50K\n",
       "10      >50K\n",
       "11      >50K\n",
       "12     <=50K\n",
       "13     <=50K\n",
       "14      >50K\n",
       "15     <=50K\n",
       "16     <=50K\n",
       "17     <=50K\n",
       "18     <=50K\n",
       "19      >50K\n",
       "Name: Salary, dtype: object"
      ]
     },
     "execution_count": 84,
     "metadata": {},
     "output_type": "execute_result"
    }
   ],
   "source": [
    "df['Salary'].head(20)"
   ]
  },
  {
   "cell_type": "code",
   "execution_count": 85,
   "id": "142a16db",
   "metadata": {},
   "outputs": [],
   "source": [
    "#Converting the 2 string outcome to integer\n",
    "le = LabelEncoder()\n",
    "df['Salary'] = le.fit_transform(df['Salary'])"
   ]
  },
  {
   "cell_type": "code",
   "execution_count": 86,
   "id": "85bcb033",
   "metadata": {},
   "outputs": [
    {
     "data": {
      "text/plain": [
       "<AxesSubplot:xlabel='Salary', ylabel='count'>"
      ]
     },
     "execution_count": 86,
     "metadata": {},
     "output_type": "execute_result"
    },
    {
     "data": {
      "image/png": "[encoded data removed]",
      "text/plain": [
       "<Figure size 432x288 with 1 Axes>"
      ]
     },
     "metadata": {},
     "output_type": "display_data"
    }
   ],
   "source": [
    "sns.set_theme(style=\"darkgrid\")\n",
    "sns.countplot(df['Salary'])"
   ]
  },
  {
   "cell_type": "markdown",
   "id": "dbff3178",
   "metadata": {},
   "source": [
    "We can use different methods to deal with imbalanced data. \n",
    "https://www.analyticsvidhya.com/blog/2021/06/5-techniques-to-handle-imbalanced-data-for-a-classification-problem/\n",
    "\n",
    "In this experiment, we will be using downsampling as the method to deal with imbalanced data."
   ]
  },
  {
   "cell_type": "code",
   "execution_count": 87,
   "id": "feb629af",
   "metadata": {},
   "outputs": [],
   "source": [
    "from sklearn.utils import resample\n",
    "\n",
    "salaryNeg = df[df[\"Salary\"] == 0]\n",
    "salaryPlus = df[df[\"Salary\"] == 1]\n",
    "\n",
    "\n",
    "salaryNeg_downsample = resample(salaryNeg,\n",
    "             replace=True,\n",
    "             n_samples=len(salaryPlus),\n",
    "             random_state=42)\n",
    "\n",
    "df_downsampled = pd.concat([salaryNeg_downsample, salaryPlus])\n"
   ]
  },
  {
   "cell_type": "code",
   "execution_count": 90,
   "id": "a9140470",
   "metadata": {},
   "outputs": [
    {
     "data": {
      "text/plain": [
       "<AxesSubplot:xlabel='Salary', ylabel='count'>"
      ]
     },
     "execution_count": 90,
     "metadata": {},
     "output_type": "execute_result"
    },
    {
     "data": {
      "image/png": "[encoded data removed]",
      "text/plain": [
       "<Figure size 432x288 with 1 Axes>"
      ]
     },
     "metadata": {},
     "output_type": "display_data"
    }
   ],
   "source": [
    "sns.countplot(df_downsampled['Salary'])"
   ]
  },
  {
   "cell_type": "code",
   "execution_count": 91,
   "id": "d26fffd2",
   "metadata": {},
   "outputs": [
    {
     "data": {
      "text/plain": [
       "Age                int64\n",
       "Workclass         object\n",
       "Fnlwgt             int64\n",
       "Education         object\n",
       "Education-num      int64\n",
       "Marital-status    object\n",
       "Occupation        object\n",
       "Relationship      object\n",
       "Race              object\n",
       "Sex               object\n",
       "Capital-gain       int64\n",
       "Capital-loss       int64\n",
       "hours-per-week     int64\n",
       "Native-country    object\n",
       "Salary             int64\n",
       "dtype: object"
      ]
     },
     "execution_count": 91,
     "metadata": {},
     "output_type": "execute_result"
    }
   ],
   "source": [
    "df_downsampled.dtypes"
   ]
  },
  {
   "cell_type": "code",
   "execution_count": 92,
   "id": "97da54db",
   "metadata": {},
   "outputs": [
    {
     "data": {
      "text/html": [
       "<div>\n",
       "<style scoped>\n",
       "    .dataframe tbody tr th:only-of-type {\n",
       "        vertical-align: middle;\n",
       "    }\n",
       "\n",
       "    .dataframe tbody tr th {\n",
       "        vertical-align: top;\n",
       "    }\n",
       "\n",
       "    .dataframe thead th {\n",
       "        text-align: right;\n",
       "    }\n",
       "</style>\n",
       "<table border=\"1\" class=\"dataframe\">\n",
       "  <thead>\n",
       "    <tr style=\"text-align: right;\">\n",
       "      <th></th>\n",
       "      <th>Age</th>\n",
       "      <th>Workclass</th>\n",
       "      <th>Fnlwgt</th>\n",
       "      <th>Education</th>\n",
       "      <th>Education-num</th>\n",
       "      <th>Marital-status</th>\n",
       "      <th>Occupation</th>\n",
       "      <th>Relationship</th>\n",
       "      <th>Race</th>\n",
       "      <th>Sex</th>\n",
       "      <th>Capital-gain</th>\n",
       "      <th>Capital-loss</th>\n",
       "      <th>hours-per-week</th>\n",
       "      <th>Native-country</th>\n",
       "      <th>Salary</th>\n",
       "    </tr>\n",
       "  </thead>\n",
       "  <tbody>\n",
       "    <tr>\n",
       "      <th>31119</th>\n",
       "      <td>28</td>\n",
       "      <td>Private</td>\n",
       "      <td>273269</td>\n",
       "      <td>Some-college</td>\n",
       "      <td>10</td>\n",
       "      <td>Never-married</td>\n",
       "      <td>Craft-repair</td>\n",
       "      <td>Not-in-family</td>\n",
       "      <td>Black</td>\n",
       "      <td>Male</td>\n",
       "      <td>0</td>\n",
       "      <td>0</td>\n",
       "      <td>40</td>\n",
       "      <td>United-States</td>\n",
       "      <td>0</td>\n",
       "    </tr>\n",
       "    <tr>\n",
       "      <th>20745</th>\n",
       "      <td>18</td>\n",
       "      <td>Local-gov</td>\n",
       "      <td>159032</td>\n",
       "      <td>7th-8th</td>\n",
       "      <td>4</td>\n",
       "      <td>Never-married</td>\n",
       "      <td>Farming-fishing</td>\n",
       "      <td>Own-child</td>\n",
       "      <td>White</td>\n",
       "      <td>Male</td>\n",
       "      <td>0</td>\n",
       "      <td>0</td>\n",
       "      <td>40</td>\n",
       "      <td>United-States</td>\n",
       "      <td>0</td>\n",
       "    </tr>\n",
       "    <tr>\n",
       "      <th>1127</th>\n",
       "      <td>63</td>\n",
       "      <td>Federal-gov</td>\n",
       "      <td>124244</td>\n",
       "      <td>HS-grad</td>\n",
       "      <td>9</td>\n",
       "      <td>Widowed</td>\n",
       "      <td>Handlers-cleaners</td>\n",
       "      <td>Not-in-family</td>\n",
       "      <td>Black</td>\n",
       "      <td>Male</td>\n",
       "      <td>0</td>\n",
       "      <td>0</td>\n",
       "      <td>40</td>\n",
       "      <td>United-States</td>\n",
       "      <td>0</td>\n",
       "    </tr>\n",
       "    <tr>\n",
       "      <th>7101</th>\n",
       "      <td>37</td>\n",
       "      <td>Private</td>\n",
       "      <td>120045</td>\n",
       "      <td>HS-grad</td>\n",
       "      <td>9</td>\n",
       "      <td>Divorced</td>\n",
       "      <td>Machine-op-inspct</td>\n",
       "      <td>Not-in-family</td>\n",
       "      <td>White</td>\n",
       "      <td>Female</td>\n",
       "      <td>0</td>\n",
       "      <td>0</td>\n",
       "      <td>56</td>\n",
       "      <td>United-States</td>\n",
       "      <td>0</td>\n",
       "    </tr>\n",
       "    <tr>\n",
       "      <th>28380</th>\n",
       "      <td>40</td>\n",
       "      <td>Private</td>\n",
       "      <td>72791</td>\n",
       "      <td>Some-college</td>\n",
       "      <td>10</td>\n",
       "      <td>Never-married</td>\n",
       "      <td>Craft-repair</td>\n",
       "      <td>Own-child</td>\n",
       "      <td>Black</td>\n",
       "      <td>Male</td>\n",
       "      <td>0</td>\n",
       "      <td>0</td>\n",
       "      <td>40</td>\n",
       "      <td>United-States</td>\n",
       "      <td>0</td>\n",
       "    </tr>\n",
       "  </tbody>\n",
       "</table>\n",
       "</div>"
      ],
      "text/plain": [
       "       Age     Workclass  Fnlwgt      Education  Education-num  \\\n",
       "31119   28       Private  273269   Some-college             10   \n",
       "20745   18     Local-gov  159032        7th-8th              4   \n",
       "1127    63   Federal-gov  124244        HS-grad              9   \n",
       "7101    37       Private  120045        HS-grad              9   \n",
       "28380   40       Private   72791   Some-college             10   \n",
       "\n",
       "       Marital-status          Occupation    Relationship    Race      Sex  \\\n",
       "31119   Never-married        Craft-repair   Not-in-family   Black     Male   \n",
       "20745   Never-married     Farming-fishing       Own-child   White     Male   \n",
       "1127          Widowed   Handlers-cleaners   Not-in-family   Black     Male   \n",
       "7101         Divorced   Machine-op-inspct   Not-in-family   White   Female   \n",
       "28380   Never-married        Craft-repair       Own-child   Black     Male   \n",
       "\n",
       "       Capital-gain  Capital-loss  hours-per-week  Native-country  Salary  \n",
       "31119             0             0              40   United-States       0  \n",
       "20745             0             0              40   United-States       0  \n",
       "1127              0             0              40   United-States       0  \n",
       "7101              0             0              56   United-States       0  \n",
       "28380             0             0              40   United-States       0  "
      ]
     },
     "execution_count": 92,
     "metadata": {},
     "output_type": "execute_result"
    }
   ],
   "source": [
    "df_downsampled.head()"
   ]
  },
  {
   "cell_type": "markdown",
   "id": "b4dbb6c6",
   "metadata": {},
   "source": [
    "### Understanding the Relationship with Other Features"
   ]
  },
  {
   "cell_type": "markdown",
   "id": "469425a8",
   "metadata": {},
   "source": [
    "https://seaborn.pydata.org/tutorial/categorical.html"
   ]
  },
  {
   "cell_type": "code",
   "execution_count": null,
   "id": "d9e560f9",
   "metadata": {},
   "outputs": [],
   "source": []
  }
 ],
 "metadata": {
  "kernelspec": {
   "display_name": "Python 3",
   "language": "python",
   "name": "python3"
  },
  "language_info": {
   "codemirror_mode": {
    "name": "ipython",
    "version": 3
   },
   "file_extension": ".py",
   "mimetype": "text/x-python",
   "name": "python",
   "nbconvert_exporter": "python",
   "pygments_lexer": "ipython3",
   "version": "3.9.4"
  }
 },
 "nbformat": 4,
 "nbformat_minor": 5
}
